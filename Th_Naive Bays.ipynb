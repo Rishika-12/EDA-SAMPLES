{
 "cells": [
  {
   "cell_type": "code",
   "execution_count": 1,
   "id": "511bd5ee",
   "metadata": {},
   "outputs": [],
   "source": [
    "import pandas as pd\n",
    "import numpy as np\n",
    "import nltk\n",
    "import string\n",
    "import matplotlib.pyplot as plt\n",
    "import seaborn as sns\n",
    "from sklearn.feature_extraction.text import TfidfTransformer\n",
    "from sklearn.feature_extraction.text import TfidfVectorizer\n",
    "from sklearn.preprocessing import LabelEncoder\n",
    "\n",
    "from sklearn.feature_extraction.text import CountVectorizer\n",
    "from sklearn.metrics import confusion_matrix\n",
    "from sklearn import metrics\n",
    "from sklearn.metrics import roc_curve, auc\n",
    "from nltk.stem.porter import PorterStemmer\n",
    "\n",
    "import re\n",
    "import string\n",
    "from textblob import TextBlob\n",
    "\n",
    "from nltk.stem import PorterStemmer\n",
    "from nltk.stem.wordnet import WordNetLemmatizer\n",
    "from nltk.sentiment.vader import SentimentIntensityAnalyzer\n",
    "\n",
    "from gensim.models import Word2Vec\n",
    "from gensim.models import KeyedVectors\n",
    "\n",
    "from tqdm import tqdm\n"
   ]
  },
  {
   "cell_type": "code",
   "execution_count": 2,
   "id": "bb65c1c4",
   "metadata": {},
   "outputs": [
    {
     "name": "stdout",
     "output_type": "stream",
     "text": [
      "365 366 365 365 364 366 174\n",
      "Total Rows in dataframe: 2365\n"
     ]
    }
   ],
   "source": [
    "data1 = pd.read_csv(\"Datasets of Stocks Market and Stock News Articles\\Datasets of Stocks Market and Stock News Articles\\Stocks News Articles Datasets\\Headlines_2015.csv\")\n",
    "data2 = pd.read_csv(\"Datasets of Stocks Market and Stock News Articles\\Datasets of Stocks Market and Stock News Articles\\Stocks News Articles Datasets\\Headlines_2016.csv\")\n",
    "data3 = pd.read_csv(\"Datasets of Stocks Market and Stock News Articles\\Datasets of Stocks Market and Stock News Articles\\Stocks News Articles Datasets\\Headlines_2017.csv\")\n",
    "data4 = pd.read_csv(\"Datasets of Stocks Market and Stock News Articles\\Datasets of Stocks Market and Stock News Articles\\Stocks News Articles Datasets\\Headlines_2018.csv\")\n",
    "data5 = pd.read_csv(\"Datasets of Stocks Market and Stock News Articles\\Datasets of Stocks Market and Stock News Articles\\Stocks News Articles Datasets\\Headlines_2019.csv\")\n",
    "data6 = pd.read_csv(\"Datasets of Stocks Market and Stock News Articles\\Datasets of Stocks Market and Stock News Articles\\Stocks News Articles Datasets\\Headlines_2020.csv\")\n",
    "data7 = pd.read_csv(\"Datasets of Stocks Market and Stock News Articles\\Datasets of Stocks Market and Stock News Articles\\Stocks News Articles Datasets\\Headlines_2021.csv\")\n",
    "\n",
    "df = pd.concat([data1, data2, data3, data4, data5, data6, data7])\n",
    "print(len(data1), len(data2), len(data3),len(data4), len(data5), len(data6),len(data7))\n",
    "print(\"Total Rows in dataframe:\", len(df))"
   ]
  },
  {
   "cell_type": "code",
   "execution_count": 3,
   "id": "55cb765f",
   "metadata": {},
   "outputs": [
    {
     "data": {
      "text/html": [
       "<div>\n",
       "<style scoped>\n",
       "    .dataframe tbody tr th:only-of-type {\n",
       "        vertical-align: middle;\n",
       "    }\n",
       "\n",
       "    .dataframe tbody tr th {\n",
       "        vertical-align: top;\n",
       "    }\n",
       "\n",
       "    .dataframe thead th {\n",
       "        text-align: right;\n",
       "    }\n",
       "</style>\n",
       "<table border=\"1\" class=\"dataframe\">\n",
       "  <thead>\n",
       "    <tr style=\"text-align: right;\">\n",
       "      <th></th>\n",
       "      <th>Date</th>\n",
       "      <th>Headlines</th>\n",
       "    </tr>\n",
       "  </thead>\n",
       "  <tbody>\n",
       "    <tr>\n",
       "      <th>0</th>\n",
       "      <td>2015-01-01</td>\n",
       "      <td>What Can We Expect From Apple Inc. In 2015? 1 ...</td>\n",
       "    </tr>\n",
       "    <tr>\n",
       "      <th>1</th>\n",
       "      <td>2015-01-02</td>\n",
       "      <td>What to expect from Apple in 2015 beyond its s...</td>\n",
       "    </tr>\n",
       "    <tr>\n",
       "      <th>2</th>\n",
       "      <td>2015-01-03</td>\n",
       "      <td>Mountie: An inexpensive and innovative way to ...</td>\n",
       "    </tr>\n",
       "    <tr>\n",
       "      <th>3</th>\n",
       "      <td>2015-01-04</td>\n",
       "      <td>Donald Yacktman on the Sources of Moats, His C...</td>\n",
       "    </tr>\n",
       "    <tr>\n",
       "      <th>4</th>\n",
       "      <td>2015-01-05</td>\n",
       "      <td>SIM-free iPhone 6, 6 Plus reportedly debuting ...</td>\n",
       "    </tr>\n",
       "  </tbody>\n",
       "</table>\n",
       "</div>"
      ],
      "text/plain": [
       "         Date                                          Headlines\n",
       "0  2015-01-01  What Can We Expect From Apple Inc. In 2015? 1 ...\n",
       "1  2015-01-02  What to expect from Apple in 2015 beyond its s...\n",
       "2  2015-01-03  Mountie: An inexpensive and innovative way to ...\n",
       "3  2015-01-04  Donald Yacktman on the Sources of Moats, His C...\n",
       "4  2015-01-05  SIM-free iPhone 6, 6 Plus reportedly debuting ..."
      ]
     },
     "execution_count": 3,
     "metadata": {},
     "output_type": "execute_result"
    }
   ],
   "source": [
    "df.head()\n"
   ]
  },
  {
   "cell_type": "code",
   "execution_count": 4,
   "id": "39a63ea4",
   "metadata": {},
   "outputs": [],
   "source": [
    "df = df.drop_duplicates()\n",
    "\n",
    "df['Date'] = pd.to_datetime(df['Date'])"
   ]
  },
  {
   "cell_type": "code",
   "execution_count": 5,
   "id": "b687fbb3",
   "metadata": {},
   "outputs": [
    {
     "name": "stdout",
     "output_type": "stream",
     "text": [
      "                       Date                                          Headlines\n",
      "count                  2342                                               2342\n",
      "unique                 2335                                               2332\n",
      "top     2019-11-20 00:00:00  MasterCard is expanding its mobile wallet in S...\n",
      "freq                      2                                                  3\n",
      "first   2015-01-01 00:00:00                                                NaN\n",
      "last    2021-06-23 00:00:00                                                NaN\n",
      "==================================================\n",
      "<class 'pandas.core.frame.DataFrame'>\n",
      "Int64Index: 2342 entries, 0 to 173\n",
      "Data columns (total 2 columns):\n",
      " #   Column     Non-Null Count  Dtype         \n",
      "---  ------     --------------  -----         \n",
      " 0   Date       2342 non-null   datetime64[ns]\n",
      " 1   Headlines  2342 non-null   object        \n",
      "dtypes: datetime64[ns](1), object(1)\n",
      "memory usage: 54.9+ KB\n",
      "==================================================\n",
      "(2342, 2)\n",
      "==================================================\n",
      "Date         0\n",
      "Headlines    0\n",
      "dtype: int64\n",
      "==================================================\n"
     ]
    },
    {
     "name": "stderr",
     "output_type": "stream",
     "text": [
      "C:\\Users\\TIRTHA~1\\AppData\\Local\\Temp/ipykernel_17752/3972082628.py:1: FutureWarning: Treating datetime data as categorical rather than numeric in `.describe` is deprecated and will be removed in a future version of pandas. Specify `datetime_is_numeric=True` to silence this warning and adopt the future behavior now.\n",
      "  print(df.describe())\n"
     ]
    }
   ],
   "source": [
    "print(df.describe())\n",
    "print(\"=\"*50)\n",
    "df.info()\n",
    "print(\"=\"*50)\n",
    "print(df.shape)\n",
    "print(\"=\"*50)\n",
    "print(df.isnull().sum())\n",
    "print(\"=\"*50)"
   ]
  },
  {
   "cell_type": "code",
   "execution_count": 6,
   "id": "ab622649",
   "metadata": {},
   "outputs": [
    {
     "name": "stdout",
     "output_type": "stream",
     "text": [
      "What Can We Expect From Apple Inc. In 2015? 1 Reason I Might Be Wrong About the Apple Inc. Retina MacBook Air More Evidence Apple Inc.&quot;s First Quarter Will Be Huge Samsung: New smart TVs in 2015 to run on Tizen OS\n",
      "==================================================\n",
      "Should You Buy Applied Materials (AMAT) Stock As It Hits New High? Time To Take A Bite Out Of Apple? Amazon.com Unveils New Echo Products: What You Need to Know UPDATE 1-Microsoft search engine Bing to focus on PC search market -CEO Apple working on fix for iPhone 8 &quot;crackling&quot; sound issue     - CNET Microsoft search engine Bing to focus on PC search market -CEO Wall Street ends flat after Yellen, tech shares bounce (VIDEO) Apple just released new information about how facial recognition on the iPhone X works Microsoft search engine Bing to focus on PC search market: CEO Microsoft search engine Bing to focus on PC search market: CEO Amazon&quot;s New Alexa Gadgets Are Aiming For Every Nook And Cranny Of Your Life Shareholders Accuse Google and Alphabet of Withholding Gender Pay Gap Data New $70 Amazon Fire TV Hits Apple Where It Hurts KGI : iPhone 8 sales are &#39;excessively negative&#39; Sorry, kids: Apple&quot;s new Face ID isn&quot;t meant for you UPDATE 1-Amazon expands Echo lineup in bid to defend Alexa edge Sorry, kids: Apple&quot;s new Face ID isn&quot;t meant for you Hemp in California: Could marijuana&quot;s mellow cousin be the next environmental and economic boon? Analysts&quot; Updated EPS Estimates for September, 27th (AAPL, ADRO, AMBA, AXON, BMY, BUFF, CBS, CCL, CTAS, DOX) Tech Tip: Can You Run Android on an iPad? Why Did Under Armour (UAA) Stock Sink Today? Nasdaq Kicks Higher, Apple Up Again; Can These 4 Chip Stocks Catch Nvidia? Q&amp;A: How Apple&quot;s Face ID facial recognition works Seeking Alpha&quot;s Weekly Media, Tech, And Finance News Round Up An Infographic Guide to the Rumored T-MobileSprint Merger Meag Munich Ergo Kapitalanlagegesellschaft MBH Increases Holdings in Apple Inc. (AAPL) Apple iPhone X Production Estimate Cut By Wall Street Firm Amazon Unveiling Products Likely To Focus On Echo Digital Assistant Apple Inc. (AAPL) Holdings Boosted by Hartwell J M Limited Partnership Eagle Capital Management LLC Sells 248 Shares of Apple Inc. (AAPL) Understanding Apple: Why The X Will Rule Next-Gen Sony Phones To Feature Completely New Design Apple confirms its new iPhone 8 has &quot;crackling&quot; sound problem and says it&quot;s working on a fix Apple: Last Year&quot;s iPhone 7 May Offset iPhone X Delays, Slack &quot;8&quot; Demand, Says Mizuho Apple, Alphabet and Samsung are making a long-term bet on health care Microsoft Announces that Office 2019 will Arrive Late Next Fall See How Apple&quot;s Market Value Stacks Up vs. Past Mega-Stocks Here&quot;s a bullish report on Apple&quot;s first-week iPhone 8 sales The Zacks Analyst Blog Highlights: Apple, Snap, Intel and Corning Are Amazon, Google, Facebook And Apple Monopolies? In Some Ways, But This Isn&quot;t Illegal Apple, Fitbit to Join FDA Program to Speed Health Tech Tech And Bank Stocks Surge As Major Indexes Hold Early Solid Gains Google Pixel 2 & Pixel 2 XL: Price, Release Date, And More Cedars-Sinai&quot;s Health App that&quot;s available for the iPhone is now available for Apple Watch Stock Market News For Sep 27, 2017 Apple&quot;s (AAPL) Outperform Rating Reaffirmed at Raymond James Financial, Inc. Investors: Stock Reports for Apple, Michael Kors, Micron, NVIDIA, and SunPower. Stocks to Watch: Micron, Nike, Apple, Amazon, Alphabet, Ford, Twitter IPhone X delays are blamed on snag in facial recognition hardware, report says SK hynix officially Signs on to the Toshiba Memory Corp Deal as Apple and Toshiba Continue to Negotiate Apple Aware Of The iPhone 8 &quot;Crackling&quot; Sound Issues, Promises A Fix AMD to introduce 12nm Desktop Processors in Q2 2018 to further Challenge Intel Apple Released iOS 11.0.1: What&quot;s New? Raymond James Upgrades Apple Inc. Stock: Says Buy On A Drawdown Apple iPhone X Production Woe Sparked by a Parts Imbalance Sell-Off In Tech - Cramer&quot;s Mad Money (9/26/17) For the Fifth Consecutive Year Apple has been recognized as the Top Global Brand Wall Street Breakfast: Tax Reform On The Radar Short Interest in Apple Drops Over 8 Million Shares as New iPhones Launch Apple says a fix for crackling iPhone 8 earpiece issue is coming Boeing scored a big victory against its Canadian rival, but it may start a nasty trade war (BA, BBD.B, DAL) Apple Could Go To $160 Apple confirms iPhone 8 &quot;crackling&quot; sound problem for small number of people and says it&quot;s working on a fix (AAPL)\n",
      "==================================================\n",
      "Prepare For The Prescription Drug Price Battle Amazon&apos;s Bezos & Twitter winners of week; Apple Store, InstaCart losers Apple: Don&quot;t Stop Believin&quot; Apple Inc. (AAPL) Position Cut by Sterling Investment Management Inc. Mycio Wealth Partners LLC Sells 6,122 Shares of Apple Inc. (AAPL) Apple Inc. (AAPL) Shares Bought by CFO4Life Group LLC Apple fixes FaceTime bug, new iOS 12.1.4 update available; big bounty for teenager founding bug\n",
      "==================================================\n",
      "QQQX: Sell Now, Buy On The Next Crash The Apple Watch is finally getting 1 major feature it&quot;s been missing that Fitbit has offered for years. Here&quot;s everything we know about the next model so far. (AAPL) The Apple Watch is finally getting 1 major feature it&quot;s been missing that Fitbit has offered for years. Here&quot;s everything we know about the next model so far. (AAPL) What To Expect From The Crazy Earnings Season Ahead Buy Lagging Intel (INTC) Stock Heading into Q2 Earnings? Feature: Jamf, Which Makes Apple Device Management Software, Is Going Public Next Week How to change the pitch of audio and music in Audacity in 2 ways Facebook execs Zuckerberg, Sandberg could be deposed by FTC in antitrust probe: report Apple&quot;s iPhone 12 is expected to bring major changes like a new design, 5G, and 3D cameras - here&quot;s everything we know about it so far (AAPL) Why StockX Activity Is Up 50% Year-Over-Year: A Rally In The Stock Market Of Things Apple opens Beijing megastore amid U.S. criticism 3 Special Purpose Acquisition Companies That Have Become Stocks to Buy Companies like Apple, Red Hat, and GitHub are dropping decades-old coding terms like &quot;slave&quot; or &quot;blacklist.&quot; Advocates say it&quot;s a small but important step towards a more inclusive tech industry (MSFT) Buy Microsoft (MSFT) Stock Before Earnings for Long-Term Growth &amp; Safety? Apple: Still No AR Glasses, But I&quot;ll Take It How to record audio on Audacity either from a microphone or to capture the sounds of another program Netflix&quot;s (almost) doing the right thing Why Netflix (NFLX) Remains a Stock Worth Holding Distillate Capital Partners Q2 2020 Investment Letter Cascade Investment Advisors Inc. Sells 410 Shares of Apple Inc. (NASDAQ:AAPL) Apple Inc. (NASDAQ:AAPL) Shares Sold by Pacifica Partners Inc. Skyworks (SWKS) Gearing Up for Q3 Earnings: What&quot;s in Store? 2 Stocks I&quot;ll Hold Forever Apple gains iPhone assemblers in India, China Spotify Expands To 13 European Markets, Including Russia Rep. Khanna: Big Tech Needs &quot;Well Crafted&quot; Regulation 4 Investing Tips From Jeremy Grantham, Expert on Stock Market Bubbles Apple (AAPL) Looks Attractive on Every Dip Apple (AAPL) Looks Attractive on Every Dip Apple (AAPL) Previews New Emojis for iOS on World Emoji Day 360 Financial Inc. Increases Stock Position in Apple Inc. (NASDAQ:AAPL) Newport Wealth Strategies Inc. Has $5.92 Million Stake in Apple Inc. (NASDAQ:AAPL) &quot;Tera-caps&quot; Apple, Microsoft, Amazon and Alphabet will continue to get bigger and bigger The 2020 QQQ Tech Bubble New Apple patents could be more evidence that this fall&quot;s iPhone launch will be all about 5G (AAPL) New Apple patents could be more evidence that this fall&quot;s iPhone launch will be all about 5G (AAPL) Apple Inc. (NASDAQ:AAPL) Shares Bought by BKD Wealth Advisors LLC Apple Inc. (NASDAQ:AAPL) Holdings Reduced by Arlington Financial Advisors LLC Capital City Trust Co. FL Cuts Stock Position in Apple Inc. (NASDAQ:AAPL) Apple Inc. (NASDAQ:AAPL) is Fortem Financial Group LLC&quot;s 4th Largest Position WatchOS 7: Soon, your Apple Watch will know just how fit you really are     - CNET How to create an Airbnb listing and list your home or apartment on the platform Apple Inc. (NASDAQ:AAPL) is Surevest LLC&quot;s 2nd Largest Position Vista Private Wealth Partners. LLC Has $602,000 Stock Position in Apple Inc. (NASDAQ:AAPL) Gateway Investment Advisers LLC Sells 205,950 Shares of Apple Inc. (NASDAQ:AAPL) Apple Inc. (NASDAQ:AAPL) is Truewealth LLC&quot;s 4th Largest Position Lincoln Capital LLC Grows Position in Apple Inc. (NASDAQ:AAPL) Total Clarity Wealth Management Inc. Sells 231 Shares of Apple Inc. (NASDAQ:AAPL) Chapman Investment Management LLC Purchases 50 Shares of Apple Inc. (NASDAQ:AAPL) Buckley Wealth Management LLC Trims Position in Apple Inc. (NASDAQ:AAPL) China&quot;s Luxshare buys iPhone plant to strengthen Apple ties Apple to Gain a New Chinese iPhone Maker During a Trade War Howe & Rusling Inc. Lowers Position in Apple Inc. (NASDAQ:AAPL) Capital Insight Partners LLC Grows Holdings in Apple Inc. (NASDAQ:AAPL) Atticus Wealth Management LLC Acquires 127 Shares of Apple Inc. (NASDAQ:AAPL) Grassi Investment Management Has $33.16 Million Position in Apple Inc. (NASDAQ:AAPL) Hohimer Wealth Management LLC Raises Position in Apple Inc. (NASDAQ:AAPL) Engrave Wealth Partners LLC Buys 120 Shares of Apple Inc. (NASDAQ:AAPL) Apple partner Pegatron to make India entry after PM Modi sets out $6.6 billion plan to woo investors Apple has finally embraced key-based 2FA. So should you A selloff is fracturing the tech market - and Shopify may be on the wrong side of it Twitter cyberattack to be investigated by FBI as US Senate demands company explain incident Here are the 305 magazines available on Apple News+ for $9.99/month 3 Top Robinhood Stocks to Buy Wall Street Breakfast: Netflix Warns Of Growth Slowdown Apple (NASDAQ:AAPL) Earns Buy Rating from Fundamental Research Apple (NASDAQ:AAPL) PT Raised to $450.00 at Needham & Company LLC The SPY ETF Is a Great Hangout In These Turbulent Times Netflix (NFLX) Q2 Earnings Miss, Shares Down on Weak Q3 View Apple Supplier Pegatron is the next to open an iPhone Plant in India in 2021 Apple Unveils Megastore In Beijing Even As It Draws Fire Over Relations With China Yes, It&quot;s Boarding Time for Virgin Galactic Stock Bull of the Day: Advanced Micro Devices (AMD) CNB Bank Has $4.42 Million Stock Position in Apple Inc. (NASDAQ:AAPL) Lederer & Associates Investment Counsel CA Has $7.48 Million Position in Apple Inc. (NASDAQ:AAPL) Capstone Financial Group Inc. Sells 5,186 Shares of Apple Inc. (NASDAQ:AAPL) Conflict gold back in spotlight as investors flock to safe haven Conflict gold back in spotlight as investors flock to safe haven Apple (NASDAQ:AAPL) Rating Reiterated by Bank of America Insight Folios Inc Purchases New Holdings in Apple Inc. (NASDAQ:AAPL) Boenning & Scattergood Inc. Has $16.94 Million Stock Position in Apple Inc. (NASDAQ:AAPL) Steigerwald Gordon & Koch Inc. Sells 620 Shares of Apple Inc. (NASDAQ:AAPL) Keudell Morrison Wealth Management Acquires 404 Shares of Apple Inc. (NASDAQ:AAPL) Apple (NASDAQ:AAPL) Given News Sentiment Rating of 0.89 Apple warns developers of API changes flowing from style guide changes that remove non-inclusive language Hilton Capital Management LLC Purchases 30,718 Shares of Apple Inc. (NASDAQ:AAPL) Stock Yards Bank & Trust Co. Trims Position in Apple Inc. (NASDAQ:AAPL) Don&quot;t criticize Tesla & Apple&quot;s valuations, embrace them Apple Inc. (NASDAQ:AAPL) is Taylor Cottrill Erickson & Associates Inc.&quot;s 2nd Largest Position Apple Inc. (NASDAQ:AAPL) Shares Sold by Westbourne Investment Advisors Inc. Apple Inc. (NASDAQ:AAPL) Shares Bought by Secure Asset Management LLC 8,139 Shares in Apple Inc. (NASDAQ:AAPL) Acquired by MADDEN SECURITIES Corp Private Wealth Strategies L.L.C. Sells 1,334 Shares of Apple Inc. (NASDAQ:AAPL) Apple Pencil may one day include an Advanced Color Sensor System allowing Artists to Match Colors from a Palette or Real-World Objects Reitz Capital Advisors LLC Has $1.92 Million Stock Holdings in Apple Inc. (NASDAQ:AAPL) Reston Wealth Management LLC Cuts Position in Apple Inc. (NASDAQ:AAPL) Minot Wealth Management LLC Buys 2,425 Shares of Apple Inc. (NASDAQ:AAPL) Apple Inc. (NASDAQ:AAPL) is David R. Rahn & Associates Inc.&quot;s 10th Largest Position GPM Growth Investors Inc. Purchases 1,076 Shares of Apple Inc. (NASDAQ:AAPL) Norman Fields Gottscho Capital Management LLC Reduces Stake in Apple Inc. (NASDAQ:AAPL)\n",
      "==================================================\n"
     ]
    }
   ],
   "source": [
    "# printing some random reviews\n",
    "sent_0 = df['Headlines'].values[0]\n",
    "print(sent_0)\n",
    "print(\"=\"*50)\n",
    "\n",
    "sent_1000 = df['Headlines'].values[1000]\n",
    "print(sent_1000)\n",
    "print(\"=\"*50)\n",
    "\n",
    "sent_1500 = df['Headlines'].values[1500]\n",
    "print(sent_1500)\n",
    "print(\"=\"*50)\n",
    "\n",
    "sent_2000 = df['Headlines'].values[2000]\n",
    "print(sent_2000)\n",
    "print(\"=\"*50)"
   ]
  },
  {
   "cell_type": "markdown",
   "id": "58c2fb0d",
   "metadata": {},
   "source": [
    "### Sentiment scores"
   ]
  },
  {
   "cell_type": "code",
   "execution_count": 7,
   "id": "f279ed13",
   "metadata": {},
   "outputs": [
    {
     "data": {
      "text/html": [
       "<div>\n",
       "<style scoped>\n",
       "    .dataframe tbody tr th:only-of-type {\n",
       "        vertical-align: middle;\n",
       "    }\n",
       "\n",
       "    .dataframe tbody tr th {\n",
       "        vertical-align: top;\n",
       "    }\n",
       "\n",
       "    .dataframe thead th {\n",
       "        text-align: right;\n",
       "    }\n",
       "</style>\n",
       "<table border=\"1\" class=\"dataframe\">\n",
       "  <thead>\n",
       "    <tr style=\"text-align: right;\">\n",
       "      <th></th>\n",
       "      <th>Date</th>\n",
       "      <th>Headlines</th>\n",
       "      <th>Subjectivity</th>\n",
       "      <th>Polarity</th>\n",
       "    </tr>\n",
       "  </thead>\n",
       "  <tbody>\n",
       "    <tr>\n",
       "      <th>0</th>\n",
       "      <td>2015-01-01</td>\n",
       "      <td>What Can We Expect From Apple Inc. In 2015? 1 ...</td>\n",
       "      <td>0.621789</td>\n",
       "      <td>0.166775</td>\n",
       "    </tr>\n",
       "    <tr>\n",
       "      <th>1</th>\n",
       "      <td>2015-01-02</td>\n",
       "      <td>What to expect from Apple in 2015 beyond its s...</td>\n",
       "      <td>0.539970</td>\n",
       "      <td>0.144614</td>\n",
       "    </tr>\n",
       "    <tr>\n",
       "      <th>2</th>\n",
       "      <td>2015-01-03</td>\n",
       "      <td>Mountie: An inexpensive and innovative way to ...</td>\n",
       "      <td>0.593317</td>\n",
       "      <td>0.202787</td>\n",
       "    </tr>\n",
       "    <tr>\n",
       "      <th>3</th>\n",
       "      <td>2015-01-04</td>\n",
       "      <td>Donald Yacktman on the Sources of Moats, His C...</td>\n",
       "      <td>0.504270</td>\n",
       "      <td>0.150826</td>\n",
       "    </tr>\n",
       "    <tr>\n",
       "      <th>4</th>\n",
       "      <td>2015-01-05</td>\n",
       "      <td>SIM-free iPhone 6, 6 Plus reportedly debuting ...</td>\n",
       "      <td>0.442675</td>\n",
       "      <td>0.144078</td>\n",
       "    </tr>\n",
       "  </tbody>\n",
       "</table>\n",
       "</div>"
      ],
      "text/plain": [
       "        Date                                          Headlines  Subjectivity  \\\n",
       "0 2015-01-01  What Can We Expect From Apple Inc. In 2015? 1 ...      0.621789   \n",
       "1 2015-01-02  What to expect from Apple in 2015 beyond its s...      0.539970   \n",
       "2 2015-01-03  Mountie: An inexpensive and innovative way to ...      0.593317   \n",
       "3 2015-01-04  Donald Yacktman on the Sources of Moats, His C...      0.504270   \n",
       "4 2015-01-05  SIM-free iPhone 6, 6 Plus reportedly debuting ...      0.442675   \n",
       "\n",
       "   Polarity  \n",
       "0  0.166775  \n",
       "1  0.144614  \n",
       "2  0.202787  \n",
       "3  0.150826  \n",
       "4  0.144078  "
      ]
     },
     "execution_count": 7,
     "metadata": {},
     "output_type": "execute_result"
    }
   ],
   "source": [
    "#Create a function to get subjectivity\n",
    "\n",
    "def getSubjectivity(df):\n",
    "    return TextBlob(df).sentiment.subjectivity\n",
    "\n",
    "#create a function to get the polarity\n",
    "\n",
    "def getPolarity(df):\n",
    "    return TextBlob(df).sentiment.polarity\n",
    "\n",
    "#create two new solumns called \"Subjectivity\" & \"Polarity\"\n",
    "\n",
    "df['Subjectivity'] = df['Headlines'].apply(getSubjectivity)\n",
    "df['Polarity'] = df['Headlines'].apply(getPolarity)\n",
    "\n",
    "#show the data\"\n",
    "df.head()"
   ]
  },
  {
   "cell_type": "code",
   "execution_count": 8,
   "id": "8780dfe1",
   "metadata": {},
   "outputs": [],
   "source": [
    "#create a function o get the text sentiment\n",
    "\n",
    "def getSentiment(score):\n",
    "    if score < 0:\n",
    "        return 'Negative'\n",
    "    elif score == 0:\n",
    "        return 'neutral'\n",
    "    else:\n",
    "        return 'Positve'"
   ]
  },
  {
   "cell_type": "code",
   "execution_count": 9,
   "id": "e59d2f11",
   "metadata": {},
   "outputs": [
    {
     "data": {
      "text/html": [
       "<div>\n",
       "<style scoped>\n",
       "    .dataframe tbody tr th:only-of-type {\n",
       "        vertical-align: middle;\n",
       "    }\n",
       "\n",
       "    .dataframe tbody tr th {\n",
       "        vertical-align: top;\n",
       "    }\n",
       "\n",
       "    .dataframe thead th {\n",
       "        text-align: right;\n",
       "    }\n",
       "</style>\n",
       "<table border=\"1\" class=\"dataframe\">\n",
       "  <thead>\n",
       "    <tr style=\"text-align: right;\">\n",
       "      <th></th>\n",
       "      <th>Date</th>\n",
       "      <th>Headlines</th>\n",
       "      <th>Subjectivity</th>\n",
       "      <th>Polarity</th>\n",
       "      <th>Sentiment</th>\n",
       "    </tr>\n",
       "  </thead>\n",
       "  <tbody>\n",
       "    <tr>\n",
       "      <th>0</th>\n",
       "      <td>2015-01-01</td>\n",
       "      <td>What Can We Expect From Apple Inc. In 2015? 1 ...</td>\n",
       "      <td>0.621789</td>\n",
       "      <td>0.166775</td>\n",
       "      <td>Positve</td>\n",
       "    </tr>\n",
       "    <tr>\n",
       "      <th>1</th>\n",
       "      <td>2015-01-02</td>\n",
       "      <td>What to expect from Apple in 2015 beyond its s...</td>\n",
       "      <td>0.539970</td>\n",
       "      <td>0.144614</td>\n",
       "      <td>Positve</td>\n",
       "    </tr>\n",
       "    <tr>\n",
       "      <th>2</th>\n",
       "      <td>2015-01-03</td>\n",
       "      <td>Mountie: An inexpensive and innovative way to ...</td>\n",
       "      <td>0.593317</td>\n",
       "      <td>0.202787</td>\n",
       "      <td>Positve</td>\n",
       "    </tr>\n",
       "    <tr>\n",
       "      <th>3</th>\n",
       "      <td>2015-01-04</td>\n",
       "      <td>Donald Yacktman on the Sources of Moats, His C...</td>\n",
       "      <td>0.504270</td>\n",
       "      <td>0.150826</td>\n",
       "      <td>Positve</td>\n",
       "    </tr>\n",
       "    <tr>\n",
       "      <th>4</th>\n",
       "      <td>2015-01-05</td>\n",
       "      <td>SIM-free iPhone 6, 6 Plus reportedly debuting ...</td>\n",
       "      <td>0.442675</td>\n",
       "      <td>0.144078</td>\n",
       "      <td>Positve</td>\n",
       "    </tr>\n",
       "  </tbody>\n",
       "</table>\n",
       "</div>"
      ],
      "text/plain": [
       "        Date                                          Headlines  Subjectivity  \\\n",
       "0 2015-01-01  What Can We Expect From Apple Inc. In 2015? 1 ...      0.621789   \n",
       "1 2015-01-02  What to expect from Apple in 2015 beyond its s...      0.539970   \n",
       "2 2015-01-03  Mountie: An inexpensive and innovative way to ...      0.593317   \n",
       "3 2015-01-04  Donald Yacktman on the Sources of Moats, His C...      0.504270   \n",
       "4 2015-01-05  SIM-free iPhone 6, 6 Plus reportedly debuting ...      0.442675   \n",
       "\n",
       "   Polarity Sentiment  \n",
       "0  0.166775   Positve  \n",
       "1  0.144614   Positve  \n",
       "2  0.202787   Positve  \n",
       "3  0.150826   Positve  \n",
       "4  0.144078   Positve  "
      ]
     },
     "execution_count": 9,
     "metadata": {},
     "output_type": "execute_result"
    }
   ],
   "source": [
    "#create a column to store the text sentiments\n",
    "\n",
    "df['Sentiment'] = df['Polarity'].apply(getSentiment)\n",
    "\n",
    "#show the data\n",
    "df.head()"
   ]
  },
  {
   "cell_type": "code",
   "execution_count": 10,
   "id": "081633ab",
   "metadata": {},
   "outputs": [
    {
     "data": {
      "text/plain": [
       "Positve     2181\n",
       "Negative     131\n",
       "neutral       30\n",
       "Name: Sentiment, dtype: int64"
      ]
     },
     "execution_count": 10,
     "metadata": {},
     "output_type": "execute_result"
    }
   ],
   "source": [
    "df.Sentiment.value_counts()"
   ]
  },
  {
   "cell_type": "code",
   "execution_count": 11,
   "id": "3f5e2edf",
   "metadata": {},
   "outputs": [
    {
     "data": {
      "text/plain": [
       "<AxesSubplot:title={'center':'Sentiment Analysis'}, xlabel='Sentiment', ylabel='Counts'>"
      ]
     },
     "execution_count": 11,
     "metadata": {},
     "output_type": "execute_result"
    },
    {
     "data": {
      "image/png": "[encoded data removed]",
      "text/plain": [
       "<Figure size 432x288 with 1 Axes>"
      ]
     },
     "metadata": {
      "needs_background": "light"
     },
     "output_type": "display_data"
    }
   ],
   "source": [
    "df['Sentiment'].value_counts()\n",
    "\n",
    "#plot & visualize the counts\n",
    "\n",
    "plt.title('Sentiment Analysis')\n",
    "plt.xlabel('Sentiment')\n",
    "plt.ylabel('Counts')\n",
    "df['Sentiment'].value_counts().plot(kind='bar')"
   ]
  },
  {
   "cell_type": "code",
   "execution_count": 12,
   "id": "95e13ce6",
   "metadata": {},
   "outputs": [
    {
     "data": {
      "text/html": [
       "<div>\n",
       "<style scoped>\n",
       "    .dataframe tbody tr th:only-of-type {\n",
       "        vertical-align: middle;\n",
       "    }\n",
       "\n",
       "    .dataframe tbody tr th {\n",
       "        vertical-align: top;\n",
       "    }\n",
       "\n",
       "    .dataframe thead th {\n",
       "        text-align: right;\n",
       "    }\n",
       "</style>\n",
       "<table border=\"1\" class=\"dataframe\">\n",
       "  <thead>\n",
       "    <tr style=\"text-align: right;\">\n",
       "      <th></th>\n",
       "      <th>Date</th>\n",
       "      <th>Headlines</th>\n",
       "      <th>Subjectivity</th>\n",
       "      <th>Polarity</th>\n",
       "      <th>Sentiment</th>\n",
       "    </tr>\n",
       "  </thead>\n",
       "  <tbody>\n",
       "    <tr>\n",
       "      <th>0</th>\n",
       "      <td>2015-01-01</td>\n",
       "      <td>What Can We Expect From Apple Inc. In 2015? 1 ...</td>\n",
       "      <td>0.621789</td>\n",
       "      <td>0.166775</td>\n",
       "      <td>1</td>\n",
       "    </tr>\n",
       "    <tr>\n",
       "      <th>1</th>\n",
       "      <td>2015-01-02</td>\n",
       "      <td>What to expect from Apple in 2015 beyond its s...</td>\n",
       "      <td>0.539970</td>\n",
       "      <td>0.144614</td>\n",
       "      <td>1</td>\n",
       "    </tr>\n",
       "    <tr>\n",
       "      <th>2</th>\n",
       "      <td>2015-01-03</td>\n",
       "      <td>Mountie: An inexpensive and innovative way to ...</td>\n",
       "      <td>0.593317</td>\n",
       "      <td>0.202787</td>\n",
       "      <td>1</td>\n",
       "    </tr>\n",
       "    <tr>\n",
       "      <th>3</th>\n",
       "      <td>2015-01-04</td>\n",
       "      <td>Donald Yacktman on the Sources of Moats, His C...</td>\n",
       "      <td>0.504270</td>\n",
       "      <td>0.150826</td>\n",
       "      <td>1</td>\n",
       "    </tr>\n",
       "    <tr>\n",
       "      <th>4</th>\n",
       "      <td>2015-01-05</td>\n",
       "      <td>SIM-free iPhone 6, 6 Plus reportedly debuting ...</td>\n",
       "      <td>0.442675</td>\n",
       "      <td>0.144078</td>\n",
       "      <td>1</td>\n",
       "    </tr>\n",
       "  </tbody>\n",
       "</table>\n",
       "</div>"
      ],
      "text/plain": [
       "        Date                                          Headlines  Subjectivity  \\\n",
       "0 2015-01-01  What Can We Expect From Apple Inc. In 2015? 1 ...      0.621789   \n",
       "1 2015-01-02  What to expect from Apple in 2015 beyond its s...      0.539970   \n",
       "2 2015-01-03  Mountie: An inexpensive and innovative way to ...      0.593317   \n",
       "3 2015-01-04  Donald Yacktman on the Sources of Moats, His C...      0.504270   \n",
       "4 2015-01-05  SIM-free iPhone 6, 6 Plus reportedly debuting ...      0.442675   \n",
       "\n",
       "   Polarity  Sentiment  \n",
       "0  0.166775          1  \n",
       "1  0.144614          1  \n",
       "2  0.202787          1  \n",
       "3  0.150826          1  \n",
       "4  0.144078          1  "
      ]
     },
     "execution_count": 12,
     "metadata": {},
     "output_type": "execute_result"
    }
   ],
   "source": [
    "enc = LabelEncoder()\n",
    "df['Sentiment'] = enc.fit_transform(df['Sentiment'])\n",
    "df.head()"
   ]
  },
  {
   "cell_type": "code",
   "execution_count": 13,
   "id": "55f6dc5d",
   "metadata": {},
   "outputs": [
    {
     "name": "stdout",
     "output_type": "stream",
     "text": [
      "What Can We Expect From Apple Inc. In 2015? 1 Reason I Might Be Wrong About the Apple Inc. Retina MacBook Air More Evidence Apple Inc.&quot;s First Quarter Will Be Huge Samsung: New smart TVs in 2015 to run on Tizen OS\n"
     ]
    }
   ],
   "source": [
    "sent_0 = re.sub(r\"http\\S+\", \"\", sent_0)\n",
    "sent_1000 = re.sub(r\"http\\S+\", \"\", sent_1000)\n",
    "sent_1500 = re.sub(r\"http\\S+\", \"\", sent_1500)\n",
    "sent_2000 = re.sub(r\"http\\S+\", \"\", sent_2000)\n",
    "\n",
    "print(sent_0)\n",
    "\n"
   ]
  },
  {
   "cell_type": "code",
   "execution_count": 14,
   "id": "1c55f0a4",
   "metadata": {},
   "outputs": [
    {
     "name": "stdout",
     "output_type": "stream",
     "text": [
      "What Can We Expect From Apple Inc. In 2015? 1 Reason I Might Be Wrong About the Apple Inc. Retina MacBook Air More Evidence Apple Inc.\"s First Quarter Will Be Huge Samsung: New smart TVs in 2015 to run on Tizen OS\n",
      "==================================================\n",
      "Should You Buy Applied Materials (AMAT) Stock As It Hits New High? Time To Take A Bite Out Of Apple? Amazon.com Unveils New Echo Products: What You Need to Know UPDATE 1-Microsoft search engine Bing to focus on PC search market -CEO Apple working on fix for iPhone 8 \"crackling\" sound issue     - CNET Microsoft search engine Bing to focus on PC search market -CEO Wall Street ends flat after Yellen, tech shares bounce (VIDEO) Apple just released new information about how facial recognition on the iPhone X works Microsoft search engine Bing to focus on PC search market: CEO Microsoft search engine Bing to focus on PC search market: CEO Amazon\"s New Alexa Gadgets Are Aiming For Every Nook And Cranny Of Your Life Shareholders Accuse Google and Alphabet of Withholding Gender Pay Gap Data New $70 Amazon Fire TV Hits Apple Where It Hurts KGI : iPhone 8 sales are 'excessively negative' Sorry, kids: Apple\"s new Face ID isn\"t meant for you UPDATE 1-Amazon expands Echo lineup in bid to defend Alexa edge Sorry, kids: Apple\"s new Face ID isn\"t meant for you Hemp in California: Could marijuana\"s mellow cousin be the next environmental and economic boon? Analysts\" Updated EPS Estimates for September, 27th (AAPL, ADRO, AMBA, AXON, BMY, BUFF, CBS, CCL, CTAS, DOX) Tech Tip: Can You Run Android on an iPad? Why Did Under Armour (UAA) Stock Sink Today? Nasdaq Kicks Higher, Apple Up Again; Can These 4 Chip Stocks Catch Nvidia? Q&A: How Apple\"s Face ID facial recognition works Seeking Alpha\"s Weekly Media, Tech, And Finance News Round Up An Infographic Guide to the Rumored T-MobileSprint Merger Meag Munich Ergo Kapitalanlagegesellschaft MBH Increases Holdings in Apple Inc. (AAPL) Apple iPhone X Production Estimate Cut By Wall Street Firm Amazon Unveiling Products Likely To Focus On Echo Digital Assistant Apple Inc. (AAPL) Holdings Boosted by Hartwell J M Limited Partnership Eagle Capital Management LLC Sells 248 Shares of Apple Inc. (AAPL) Understanding Apple: Why The X Will Rule Next-Gen Sony Phones To Feature Completely New Design Apple confirms its new iPhone 8 has \"crackling\" sound problem and says it\"s working on a fix Apple: Last Year\"s iPhone 7 May Offset iPhone X Delays, Slack \"8\" Demand, Says Mizuho Apple, Alphabet and Samsung are making a long-term bet on health care Microsoft Announces that Office 2019 will Arrive Late Next Fall See How Apple\"s Market Value Stacks Up vs. Past Mega-Stocks Here\"s a bullish report on Apple\"s first-week iPhone 8 sales The Zacks Analyst Blog Highlights: Apple, Snap, Intel and Corning Are Amazon, Google, Facebook And Apple Monopolies? In Some Ways, But This Isn\"t Illegal Apple, Fitbit to Join FDA Program to Speed Health Tech Tech And Bank Stocks Surge As Major Indexes Hold Early Solid Gains Google Pixel 2 & Pixel 2 XL: Price, Release Date, And More Cedars-Sinai\"s Health App that\"s available for the iPhone is now available for Apple Watch Stock Market News For Sep 27, 2017 Apple\"s (AAPL) Outperform Rating Reaffirmed at Raymond James Financial, Inc. Investors: Stock Reports for Apple, Michael Kors, Micron, NVIDIA, and SunPower. Stocks to Watch: Micron, Nike, Apple, Amazon, Alphabet, Ford, Twitter IPhone X delays are blamed on snag in facial recognition hardware, report says SK hynix officially Signs on to the Toshiba Memory Corp Deal as Apple and Toshiba Continue to Negotiate Apple Aware Of The iPhone 8 \"Crackling\" Sound Issues, Promises A Fix AMD to introduce 12nm Desktop Processors in Q2 2018 to further Challenge Intel Apple Released iOS 11.0.1: What\"s New? Raymond James Upgrades Apple Inc. Stock: Says Buy On A Drawdown Apple iPhone X Production Woe Sparked by a Parts Imbalance Sell-Off In Tech - Cramer\"s Mad Money (9/26/17) For the Fifth Consecutive Year Apple has been recognized as the Top Global Brand Wall Street Breakfast: Tax Reform On The Radar Short Interest in Apple Drops Over 8 Million Shares as New iPhones Launch Apple says a fix for crackling iPhone 8 earpiece issue is coming Boeing scored a big victory against its Canadian rival, but it may start a nasty trade war (BA, BBD.B, DAL) Apple Could Go To $160 Apple confirms iPhone 8 \"crackling\" sound problem for small number of people and says it\"s working on a fix (AAPL)\n",
      "==================================================\n",
      "Prepare For The Prescription Drug Price Battle Amazon's Bezos & Twitter winners of week; Apple Store, InstaCart losers Apple: Don\"t Stop Believin\" Apple Inc. (AAPL) Position Cut by Sterling Investment Management Inc. Mycio Wealth Partners LLC Sells 6,122 Shares of Apple Inc. (AAPL) Apple Inc. (AAPL) Shares Bought by CFO4Life Group LLC Apple fixes FaceTime bug, new iOS 12.1.4 update available; big bounty for teenager founding bug\n",
      "==================================================\n",
      "QQQX: Sell Now, Buy On The Next Crash The Apple Watch is finally getting 1 major feature it\"s been missing that Fitbit has offered for years. Here\"s everything we know about the next model so far. (AAPL) The Apple Watch is finally getting 1 major feature it\"s been missing that Fitbit has offered for years. Here\"s everything we know about the next model so far. (AAPL) What To Expect From The Crazy Earnings Season Ahead Buy Lagging Intel (INTC) Stock Heading into Q2 Earnings? Feature: Jamf, Which Makes Apple Device Management Software, Is Going Public Next Week How to change the pitch of audio and music in Audacity in 2 ways Facebook execs Zuckerberg, Sandberg could be deposed by FTC in antitrust probe: report Apple\"s iPhone 12 is expected to bring major changes like a new design, 5G, and 3D cameras - here\"s everything we know about it so far (AAPL) Why StockX Activity Is Up 50% Year-Over-Year: A Rally In The Stock Market Of Things Apple opens Beijing megastore amid U.S. criticism 3 Special Purpose Acquisition Companies That Have Become Stocks to Buy Companies like Apple, Red Hat, and GitHub are dropping decades-old coding terms like \"slave\" or \"blacklist.\" Advocates say it\"s a small but important step towards a more inclusive tech industry (MSFT) Buy Microsoft (MSFT) Stock Before Earnings for Long-Term Growth & Safety? Apple: Still No AR Glasses, But I\"ll Take It How to record audio on Audacity either from a microphone or to capture the sounds of another program Netflix\"s (almost) doing the right thing Why Netflix (NFLX) Remains a Stock Worth Holding Distillate Capital Partners Q2 2020 Investment Letter Cascade Investment Advisors Inc. Sells 410 Shares of Apple Inc. (NASDAQ:AAPL) Apple Inc. (NASDAQ:AAPL) Shares Sold by Pacifica Partners Inc. Skyworks (SWKS) Gearing Up for Q3 Earnings: What\"s in Store? 2 Stocks I\"ll Hold Forever Apple gains iPhone assemblers in India, China Spotify Expands To 13 European Markets, Including Russia Rep. Khanna: Big Tech Needs \"Well Crafted\" Regulation 4 Investing Tips From Jeremy Grantham, Expert on Stock Market Bubbles Apple (AAPL) Looks Attractive on Every Dip Apple (AAPL) Looks Attractive on Every Dip Apple (AAPL) Previews New Emojis for iOS on World Emoji Day 360 Financial Inc. Increases Stock Position in Apple Inc. (NASDAQ:AAPL) Newport Wealth Strategies Inc. Has $5.92 Million Stake in Apple Inc. (NASDAQ:AAPL) \"Tera-caps\" Apple, Microsoft, Amazon and Alphabet will continue to get bigger and bigger The 2020 QQQ Tech Bubble New Apple patents could be more evidence that this fall\"s iPhone launch will be all about 5G (AAPL) New Apple patents could be more evidence that this fall\"s iPhone launch will be all about 5G (AAPL) Apple Inc. (NASDAQ:AAPL) Shares Bought by BKD Wealth Advisors LLC Apple Inc. (NASDAQ:AAPL) Holdings Reduced by Arlington Financial Advisors LLC Capital City Trust Co. FL Cuts Stock Position in Apple Inc. (NASDAQ:AAPL) Apple Inc. (NASDAQ:AAPL) is Fortem Financial Group LLC\"s 4th Largest Position WatchOS 7: Soon, your Apple Watch will know just how fit you really are     - CNET How to create an Airbnb listing and list your home or apartment on the platform Apple Inc. (NASDAQ:AAPL) is Surevest LLC\"s 2nd Largest Position Vista Private Wealth Partners. LLC Has $602,000 Stock Position in Apple Inc. (NASDAQ:AAPL) Gateway Investment Advisers LLC Sells 205,950 Shares of Apple Inc. (NASDAQ:AAPL) Apple Inc. (NASDAQ:AAPL) is Truewealth LLC\"s 4th Largest Position Lincoln Capital LLC Grows Position in Apple Inc. (NASDAQ:AAPL) Total Clarity Wealth Management Inc. Sells 231 Shares of Apple Inc. (NASDAQ:AAPL) Chapman Investment Management LLC Purchases 50 Shares of Apple Inc. (NASDAQ:AAPL) Buckley Wealth Management LLC Trims Position in Apple Inc. (NASDAQ:AAPL) China\"s Luxshare buys iPhone plant to strengthen Apple ties Apple to Gain a New Chinese iPhone Maker During a Trade War Howe & Rusling Inc. Lowers Position in Apple Inc. (NASDAQ:AAPL) Capital Insight Partners LLC Grows Holdings in Apple Inc. (NASDAQ:AAPL) Atticus Wealth Management LLC Acquires 127 Shares of Apple Inc. (NASDAQ:AAPL) Grassi Investment Management Has $33.16 Million Position in Apple Inc. (NASDAQ:AAPL) Hohimer Wealth Management LLC Raises Position in Apple Inc. (NASDAQ:AAPL) Engrave Wealth Partners LLC Buys 120 Shares of Apple Inc. (NASDAQ:AAPL) Apple partner Pegatron to make India entry after PM Modi sets out $6.6 billion plan to woo investors Apple has finally embraced key-based 2FA. So should you A selloff is fracturing the tech market - and Shopify may be on the wrong side of it Twitter cyberattack to be investigated by FBI as US Senate demands company explain incident Here are the 305 magazines available on Apple News+ for $9.99/month 3 Top Robinhood Stocks to Buy Wall Street Breakfast: Netflix Warns Of Growth Slowdown Apple (NASDAQ:AAPL) Earns Buy Rating from Fundamental Research Apple (NASDAQ:AAPL) PT Raised to $450.00 at Needham & Company LLC The SPY ETF Is a Great Hangout In These Turbulent Times Netflix (NFLX) Q2 Earnings Miss, Shares Down on Weak Q3 View Apple Supplier Pegatron is the next to open an iPhone Plant in India in 2021 Apple Unveils Megastore In Beijing Even As It Draws Fire Over Relations With China Yes, It\"s Boarding Time for Virgin Galactic Stock Bull of the Day: Advanced Micro Devices (AMD) CNB Bank Has $4.42 Million Stock Position in Apple Inc. (NASDAQ:AAPL) Lederer & Associates Investment Counsel CA Has $7.48 Million Position in Apple Inc. (NASDAQ:AAPL) Capstone Financial Group Inc. Sells 5,186 Shares of Apple Inc. (NASDAQ:AAPL) Conflict gold back in spotlight as investors flock to safe haven Conflict gold back in spotlight as investors flock to safe haven Apple (NASDAQ:AAPL) Rating Reiterated by Bank of America Insight Folios Inc Purchases New Holdings in Apple Inc. (NASDAQ:AAPL) Boenning & Scattergood Inc. Has $16.94 Million Stock Position in Apple Inc. (NASDAQ:AAPL) Steigerwald Gordon & Koch Inc. Sells 620 Shares of Apple Inc. (NASDAQ:AAPL) Keudell Morrison Wealth Management Acquires 404 Shares of Apple Inc. (NASDAQ:AAPL) Apple (NASDAQ:AAPL) Given News Sentiment Rating of 0.89 Apple warns developers of API changes flowing from style guide changes that remove non-inclusive language Hilton Capital Management LLC Purchases 30,718 Shares of Apple Inc. (NASDAQ:AAPL) Stock Yards Bank & Trust Co. Trims Position in Apple Inc. (NASDAQ:AAPL) Don\"t criticize Tesla & Apple\"s valuations, embrace them Apple Inc. (NASDAQ:AAPL) is Taylor Cottrill Erickson & Associates Inc.\"s 2nd Largest Position Apple Inc. (NASDAQ:AAPL) Shares Sold by Westbourne Investment Advisors Inc. Apple Inc. (NASDAQ:AAPL) Shares Bought by Secure Asset Management LLC 8,139 Shares in Apple Inc. (NASDAQ:AAPL) Acquired by MADDEN SECURITIES Corp Private Wealth Strategies L.L.C. Sells 1,334 Shares of Apple Inc. (NASDAQ:AAPL) Apple Pencil may one day include an Advanced Color Sensor System allowing Artists to Match Colors from a Palette or Real-World Objects Reitz Capital Advisors LLC Has $1.92 Million Stock Holdings in Apple Inc. (NASDAQ:AAPL) Reston Wealth Management LLC Cuts Position in Apple Inc. (NASDAQ:AAPL) Minot Wealth Management LLC Buys 2,425 Shares of Apple Inc. (NASDAQ:AAPL) Apple Inc. (NASDAQ:AAPL) is David R. Rahn & Associates Inc.\"s 10th Largest Position GPM Growth Investors Inc. Purchases 1,076 Shares of Apple Inc. (NASDAQ:AAPL) Norman Fields Gottscho Capital Management LLC Reduces Stake in Apple Inc. (NASDAQ:AAPL)\n"
     ]
    }
   ],
   "source": [
    "from bs4 import BeautifulSoup\n",
    "\n",
    "soup = BeautifulSoup(sent_0, 'lxml')\n",
    "text = soup.get_text()\n",
    "print(text)\n",
    "print(\"=\"*50)\n",
    "\n",
    "soup = BeautifulSoup(sent_1000, 'lxml')\n",
    "text = soup.get_text()\n",
    "print(text)\n",
    "print(\"=\"*50)\n",
    "\n",
    "soup = BeautifulSoup(sent_1500, 'lxml')\n",
    "text = soup.get_text()\n",
    "print(text)\n",
    "print(\"=\"*50)\n",
    "\n",
    "soup = BeautifulSoup(sent_2000, 'lxml')\n",
    "text = soup.get_text()\n",
    "print(text)\n"
   ]
  },
  {
   "cell_type": "code",
   "execution_count": 15,
   "id": "cd35d37c",
   "metadata": {},
   "outputs": [],
   "source": [
    "\n",
    "def decontracted(phrase):\n",
    "    # specific\n",
    "    phrase = re.sub(r\"won't\", \"will not\", phrase)\n",
    "    phrase = re.sub(r\"can\\'t\", \"can not\", phrase)\n",
    "\n",
    "    # general\n",
    "    phrase = re.sub(r\"n\\'t\", \" not\", phrase)\n",
    "    phrase = re.sub(r\"\\'re\", \" are\", phrase)\n",
    "    phrase = re.sub(r\"\\'s\", \" is\", phrase)\n",
    "    phrase = re.sub(r\"\\'d\", \" would\", phrase)\n",
    "    phrase = re.sub(r\"\\'ll\", \" will\", phrase)\n",
    "    phrase = re.sub(r\"\\'t\", \" not\", phrase)\n",
    "    phrase = re.sub(r\"\\'ve\", \" have\", phrase)\n",
    "    phrase = re.sub(r\"\\'m\", \" am\", phrase)\n",
    "    return phrase"
   ]
  },
  {
   "cell_type": "code",
   "execution_count": 16,
   "id": "fdbf187b",
   "metadata": {},
   "outputs": [
    {
     "name": "stdout",
     "output_type": "stream",
     "text": [
      "Prepare For The Prescription Drug Price Battle Amazon&apos;s Bezos & Twitter winners of week; Apple Store, InstaCart losers Apple: Don&quot;t Stop Believin&quot; Apple Inc. (AAPL) Position Cut by Sterling Investment Management Inc. Mycio Wealth Partners LLC Sells 6,122 Shares of Apple Inc. (AAPL) Apple Inc. (AAPL) Shares Bought by CFO4Life Group LLC Apple fixes FaceTime bug, new iOS 12.1.4 update available; big bounty for teenager founding bug\n",
      "==================================================\n"
     ]
    }
   ],
   "source": [
    "sent_1500 = decontracted(sent_1500)\n",
    "print(sent_1500)\n",
    "print(\"=\"*50)"
   ]
  },
  {
   "cell_type": "code",
   "execution_count": 17,
   "id": "cef02183",
   "metadata": {},
   "outputs": [
    {
     "name": "stdout",
     "output_type": "stream",
     "text": [
      "What Can We Expect From Apple Inc. In   Reason I Might Be Wrong About the Apple Inc. Retina MacBook Air More Evidence Apple Inc.&quot;s First Quarter Will Be Huge Samsung: New smart TVs in  to run on Tizen OS\n"
     ]
    }
   ],
   "source": [
    "sent_0 = re.sub(\"\\S*\\d\\S*\", \"\", sent_0).strip()\n",
    "print(sent_0)"
   ]
  },
  {
   "cell_type": "code",
   "execution_count": 18,
   "id": "2ef871bb",
   "metadata": {},
   "outputs": [
    {
     "name": "stdout",
     "output_type": "stream",
     "text": [
      "Prepare For The Prescription Drug Price Battle Amazon apos s Bezos Twitter winners of week Apple Store InstaCart losers Apple Don quot t Stop Believin quot Apple Inc AAPL Position Cut by Sterling Investment Management Inc Mycio Wealth Partners LLC Sells 6 122 Shares of Apple Inc AAPL Apple Inc AAPL Shares Bought by CFO4Life Group LLC Apple fixes FaceTime bug new iOS 12 1 4 update available big bounty for teenager founding bug\n"
     ]
    }
   ],
   "source": [
    "sent_1500 = re.sub('[^A-Za-z0-9]+', ' ', sent_1500)\n",
    "print(sent_1500)"
   ]
  },
  {
   "cell_type": "code",
   "execution_count": 19,
   "id": "b05a9285",
   "metadata": {},
   "outputs": [],
   "source": [
    "stopwords= set(['br', 'the', 'i', 'me', 'my', 'myself', 'we', 'our', 'ours', 'ourselves', 'you', \"you're\", \"you've\",\\\n",
    "            \"you'll\", \"you'd\", 'your', 'yours', 'yourself', 'yourselves', 'he', 'him', 'his', 'himself', \\\n",
    "            'she', \"she's\", 'her', 'hers', 'herself', 'it', \"it's\", 'its', 'itself', 'they', 'them', 'their',\\\n",
    "            'theirs', 'themselves', 'what', 'which', 'who', 'whom', 'this', 'that', \"that'll\", 'these', 'those', \\\n",
    "            'am', 'is', 'are', 'was', 'were', 'be', 'been', 'being', 'have', 'has', 'had', 'having', 'do', 'does', \\\n",
    "            'did', 'doing', 'a', 'an', 'the', 'and', 'but', 'if', 'or', 'because', 'as', 'until', 'while', 'of', \\\n",
    "            'at', 'by', 'for', 'with', 'about', 'against', 'between', 'into', 'through', 'during', 'before', 'after',\\\n",
    "            'above', 'below', 'to', 'from', 'up', 'down', 'in', 'out', 'on', 'off', 'over', 'under', 'again', 'further',\\\n",
    "            'then', 'once', 'here', 'there', 'when', 'where', 'why', 'how', 'all', 'any', 'both', 'each', 'few', 'more',\\\n",
    "            'most', 'other', 'some', 'such', 'only', 'own', 'same', 'so', 'than', 'too', 'very', \\\n",
    "            's', 't', 'can', 'will', 'just', 'don', \"don't\", 'should', \"should've\", 'now', 'd', 'll', 'm', 'o', 're', \\\n",
    "            've', 'y', 'ain', 'aren', \"aren't\", 'couldn', \"couldn't\", 'didn', \"didn't\", 'doesn', \"doesn't\", 'hadn',\\\n",
    "            \"hadn't\", 'hasn', \"hasn't\", 'haven', \"haven't\", 'isn', \"isn't\", 'ma', 'mightn', \"mightn't\", 'mustn',\\\n",
    "            \"mustn't\", 'needn', \"needn't\", 'shan', \"shan't\", 'shouldn', \"shouldn't\", 'wasn', \"wasn't\", 'weren', \"weren't\", \\\n",
    "            'won', \"won't\", 'wouldn', \"wouldn't\"])"
   ]
  },
  {
   "cell_type": "code",
   "execution_count": 20,
   "id": "ee641f2b",
   "metadata": {},
   "outputs": [
    {
     "name": "stderr",
     "output_type": "stream",
     "text": [
      "100%|██████████████████████████████████████████████████████████████████████████████| 2342/2342 [04:41<00:00,  8.31it/s]\n"
     ]
    }
   ],
   "source": [
    "from nltk.corpus import stopwords\n",
    "ps = PorterStemmer()\n",
    "\n",
    "preprocessed_headlines = []\n",
    "# tqdm is for printing the status bar\n",
    "for sentance in tqdm(df['Headlines'].values):\n",
    "    sentance = re.sub(r\"http\\S+\", \"\", sentance)\n",
    "    sentance = BeautifulSoup(sentance, 'lxml').get_text()\n",
    "    sentance = decontracted(sentance)\n",
    "    sentance = re.sub(\"\\S*\\d\\S*\", \"\", sentance).strip()\n",
    "    sentance = re.sub('[^A-Za-z]+', ' ', sentance)\n",
    "    sentance = sentance.lower()\n",
    "    sentance = [ps.stem(token) for token in nltk.word_tokenize(sentance) if not token in stopwords.words('english')]\n",
    "    sentance = ' '.join(sentance)\n",
    "    preprocessed_headlines.append(sentance.strip())"
   ]
  },
  {
   "cell_type": "code",
   "execution_count": 21,
   "id": "2aac8cba",
   "metadata": {},
   "outputs": [
    {
     "name": "stdout",
     "output_type": "stream",
     "text": [
      "====================================================================================================\n"
     ]
    },
    {
     "data": {
      "text/plain": [
       "'prepar prescript drug price battl amazon bezo twitter winner week appl store instacart loser appl stop believin appl inc aapl posit cut sterl invest manag inc mycio wealth partner llc sell share appl inc aapl appl inc aapl share bought group llc appl fix facetim bug new io updat avail big bounti teenag found bug'"
      ]
     },
     "execution_count": 21,
     "metadata": {},
     "output_type": "execute_result"
    }
   ],
   "source": [
    "#df['Headlines'].values\n",
    "df['Headlines'].values[1500]\n",
    "print(\"==\"*50)\n",
    "preprocessed_headlines[1500]"
   ]
  },
  {
   "cell_type": "code",
   "execution_count": 22,
   "id": "6b9ea682",
   "metadata": {},
   "outputs": [],
   "source": [
    "df['preprocessed_headlines']=pd.DataFrame(preprocessed_headlines)\n"
   ]
  },
  {
   "cell_type": "code",
   "execution_count": 23,
   "id": "bae5eaf3",
   "metadata": {},
   "outputs": [
    {
     "data": {
      "text/html": [
       "<div>\n",
       "<style scoped>\n",
       "    .dataframe tbody tr th:only-of-type {\n",
       "        vertical-align: middle;\n",
       "    }\n",
       "\n",
       "    .dataframe tbody tr th {\n",
       "        vertical-align: top;\n",
       "    }\n",
       "\n",
       "    .dataframe thead th {\n",
       "        text-align: right;\n",
       "    }\n",
       "</style>\n",
       "<table border=\"1\" class=\"dataframe\">\n",
       "  <thead>\n",
       "    <tr style=\"text-align: right;\">\n",
       "      <th></th>\n",
       "      <th>Date</th>\n",
       "      <th>Headlines</th>\n",
       "      <th>Subjectivity</th>\n",
       "      <th>Polarity</th>\n",
       "      <th>Sentiment</th>\n",
       "      <th>preprocessed_headlines</th>\n",
       "    </tr>\n",
       "  </thead>\n",
       "  <tbody>\n",
       "    <tr>\n",
       "      <th>0</th>\n",
       "      <td>2015-01-01</td>\n",
       "      <td>What Can We Expect From Apple Inc. In 2015? 1 ...</td>\n",
       "      <td>0.621789</td>\n",
       "      <td>0.166775</td>\n",
       "      <td>1</td>\n",
       "      <td>expect appl inc reason might wrong appl inc re...</td>\n",
       "    </tr>\n",
       "    <tr>\n",
       "      <th>1</th>\n",
       "      <td>2015-01-02</td>\n",
       "      <td>What to expect from Apple in 2015 beyond its s...</td>\n",
       "      <td>0.539970</td>\n",
       "      <td>0.144614</td>\n",
       "      <td>1</td>\n",
       "      <td>expect appl beyond smartwatch amazon latest ki...</td>\n",
       "    </tr>\n",
       "    <tr>\n",
       "      <th>2</th>\n",
       "      <td>2015-01-03</td>\n",
       "      <td>Mountie: An inexpensive and innovative way to ...</td>\n",
       "      <td>0.593317</td>\n",
       "      <td>0.202787</td>\n",
       "      <td>1</td>\n",
       "      <td>mounti inexpens innov way attach iphon ipad ma...</td>\n",
       "    </tr>\n",
       "    <tr>\n",
       "      <th>3</th>\n",
       "      <td>2015-01-04</td>\n",
       "      <td>Donald Yacktman on the Sources of Moats, His C...</td>\n",
       "      <td>0.504270</td>\n",
       "      <td>0.150826</td>\n",
       "      <td>1</td>\n",
       "      <td>donald yacktman sourc moat concern appl strate...</td>\n",
       "    </tr>\n",
       "    <tr>\n",
       "      <th>4</th>\n",
       "      <td>2015-01-05</td>\n",
       "      <td>SIM-free iPhone 6, 6 Plus reportedly debuting ...</td>\n",
       "      <td>0.442675</td>\n",
       "      <td>0.144078</td>\n",
       "      <td>1</td>\n",
       "      <td>sim free iphon plu reportedli debut tomorrow l...</td>\n",
       "    </tr>\n",
       "  </tbody>\n",
       "</table>\n",
       "</div>"
      ],
      "text/plain": [
       "        Date                                          Headlines  Subjectivity  \\\n",
       "0 2015-01-01  What Can We Expect From Apple Inc. In 2015? 1 ...      0.621789   \n",
       "1 2015-01-02  What to expect from Apple in 2015 beyond its s...      0.539970   \n",
       "2 2015-01-03  Mountie: An inexpensive and innovative way to ...      0.593317   \n",
       "3 2015-01-04  Donald Yacktman on the Sources of Moats, His C...      0.504270   \n",
       "4 2015-01-05  SIM-free iPhone 6, 6 Plus reportedly debuting ...      0.442675   \n",
       "\n",
       "   Polarity  Sentiment                             preprocessed_headlines  \n",
       "0  0.166775          1  expect appl inc reason might wrong appl inc re...  \n",
       "1  0.144614          1  expect appl beyond smartwatch amazon latest ki...  \n",
       "2  0.202787          1  mounti inexpens innov way attach iphon ipad ma...  \n",
       "3  0.150826          1  donald yacktman sourc moat concern appl strate...  \n",
       "4  0.144078          1  sim free iphon plu reportedli debut tomorrow l...  "
      ]
     },
     "execution_count": 23,
     "metadata": {},
     "output_type": "execute_result"
    }
   ],
   "source": [
    "df.head(5)"
   ]
  },
  {
   "cell_type": "code",
   "execution_count": 24,
   "id": "ce9d273e",
   "metadata": {},
   "outputs": [],
   "source": [
    "x = df[['Headlines','Subjectivity','Polarity']]\n",
    "y =df['Sentiment']"
   ]
  },
  {
   "cell_type": "code",
   "execution_count": 25,
   "id": "c1e117d8",
   "metadata": {},
   "outputs": [
    {
     "name": "stdout",
     "output_type": "stream",
     "text": [
      "some feature names  ['aa', 'aaa', 'aaar', 'aaba', 'aac', 'aafmaa', 'aal', 'aaoi', 'aap', 'aapl']\n",
      "==================================================\n",
      "the type of count vectorizer  <class 'scipy.sparse.csr.csr_matrix'>\n",
      "the shape of out text BOW vectorizer  (2342, 22563)\n",
      "the number of unique words  22563\n"
     ]
    }
   ],
   "source": [
    "#BoW\n",
    "count_vect = CountVectorizer() #in scikit-learn\n",
    "count_vect.fit(preprocessed_headlines)\n",
    "print(\"some feature names \", count_vect.get_feature_names()[:10])\n",
    "print('='*50)\n",
    "\n",
    "final_counts = count_vect.transform(preprocessed_headlines)\n",
    "print(\"the type of count vectorizer \",type(final_counts))\n",
    "print(\"the shape of out text BOW vectorizer \",final_counts.get_shape())\n",
    "print(\"the number of unique words \", final_counts.get_shape()[1])"
   ]
  },
  {
   "cell_type": "code",
   "execution_count": 26,
   "id": "7aa04b3f",
   "metadata": {},
   "outputs": [
    {
     "name": "stdout",
     "output_type": "stream",
     "text": [
      "some sample features(unique words in the corpus) ['aa', 'aapl', 'aapl acquir', 'aapl amazon', 'aapl amzn', 'aapl appl', 'aapl buy', 'aapl earn', 'aapl expect', 'aapl facebook']\n",
      "==================================================\n",
      "the type of count vectorizer  <class 'scipy.sparse.csr.csr_matrix'>\n",
      "the shape of out text TFIDF vectorizer  (2342, 5000)\n",
      "the number of unique words including both unigrams and bigrams  5000\n"
     ]
    }
   ],
   "source": [
    "#tfidf\n",
    "tf_idf_vect = TfidfVectorizer(max_features=5000,ngram_range=(1,2), min_df=10)\n",
    "tf_idf_vect.fit(preprocessed_headlines)\n",
    "print(\"some sample features(unique words in the corpus)\",tf_idf_vect.get_feature_names()[0:10])\n",
    "print('='*50)\n",
    "\n",
    "final_tf_idf = tf_idf_vect.transform(preprocessed_headlines)\n",
    "print(\"the type of count vectorizer \",type(final_tf_idf))\n",
    "print(\"the shape of out text TFIDF vectorizer \",final_tf_idf.get_shape())\n",
    "print(\"the number of unique words including both unigrams and bigrams \", final_tf_idf.get_shape()[1])\n",
    "X=tf_idf_vect.fit_transform(preprocessed_headlines).toarray()"
   ]
  },
  {
   "cell_type": "code",
   "execution_count": null,
   "id": "73baccf8",
   "metadata": {},
   "outputs": [],
   "source": []
  },
  {
   "cell_type": "code",
   "execution_count": 27,
   "id": "72ebf20d",
   "metadata": {},
   "outputs": [
    {
     "data": {
      "text/plain": [
       "['aa',\n",
       " 'aapl',\n",
       " 'aapl acquir',\n",
       " 'aapl amazon',\n",
       " 'aapl amzn',\n",
       " 'aapl appl',\n",
       " 'aapl buy',\n",
       " 'aapl earn',\n",
       " 'aapl expect',\n",
       " 'aapl facebook',\n",
       " 'aapl fb',\n",
       " 'aapl first',\n",
       " 'aapl get',\n",
       " 'aapl given',\n",
       " 'aapl goog',\n",
       " 'aapl googl',\n",
       " 'aapl hold',\n",
       " 'aapl ibm',\n",
       " 'aapl iphon',\n",
       " 'aapl microsoft']"
      ]
     },
     "execution_count": 27,
     "metadata": {},
     "output_type": "execute_result"
    }
   ],
   "source": [
    "tf_idf_vect.get_feature_names()[:20]"
   ]
  },
  {
   "cell_type": "code",
   "execution_count": 28,
   "id": "74696983",
   "metadata": {},
   "outputs": [
    {
     "data": {
      "text/plain": [
       "{'analyzer': 'word',\n",
       " 'binary': False,\n",
       " 'decode_error': 'strict',\n",
       " 'dtype': numpy.float64,\n",
       " 'encoding': 'utf-8',\n",
       " 'input': 'content',\n",
       " 'lowercase': True,\n",
       " 'max_df': 1.0,\n",
       " 'max_features': 5000,\n",
       " 'min_df': 10,\n",
       " 'ngram_range': (1, 2),\n",
       " 'norm': 'l2',\n",
       " 'preprocessor': None,\n",
       " 'smooth_idf': True,\n",
       " 'stop_words': None,\n",
       " 'strip_accents': None,\n",
       " 'sublinear_tf': False,\n",
       " 'token_pattern': '(?u)\\\\b\\\\w\\\\w+\\\\b',\n",
       " 'tokenizer': None,\n",
       " 'use_idf': True,\n",
       " 'vocabulary': None}"
      ]
     },
     "execution_count": 28,
     "metadata": {},
     "output_type": "execute_result"
    }
   ],
   "source": [
    "tf_idf_vect.get_params()"
   ]
  },
  {
   "cell_type": "code",
   "execution_count": null,
   "id": "fb0cad15",
   "metadata": {},
   "outputs": [],
   "source": []
  },
  {
   "cell_type": "code",
   "execution_count": 29,
   "id": "b3a98fbc",
   "metadata": {},
   "outputs": [
    {
     "data": {
      "text/plain": [
       "((2342, 5000), (2342,))"
      ]
     },
     "execution_count": 29,
     "metadata": {},
     "output_type": "execute_result"
    }
   ],
   "source": [
    "X.shape,y.shape"
   ]
  },
  {
   "cell_type": "code",
   "execution_count": 30,
   "id": "d887595c",
   "metadata": {},
   "outputs": [
    {
     "name": "stdout",
     "output_type": "stream",
     "text": [
      "Training dataset:  1639\n",
      "Test dataset:  703\n"
     ]
    }
   ],
   "source": [
    "#https://www.kaggle.com/cnokello/news-article-classification-using-naive-bayes\n",
    "from sklearn.model_selection import train_test_split\n",
    "\n",
    "X_train, X_test, y_train, y_test = train_test_split(\n",
    "    X, \n",
    "    y,\n",
    "    test_size=0.3,\n",
    "    random_state = 5\n",
    ")\n",
    "\n",
    "print(\"Training dataset: \", X_train.shape[0])\n",
    "print(\"Test dataset: \", X_test.shape[0])"
   ]
  },
  {
   "cell_type": "code",
   "execution_count": 31,
   "id": "5bf9020e",
   "metadata": {},
   "outputs": [],
   "source": [
    "from sklearn.naive_bayes import MultinomialNB\n",
    "\n",
    "nb = MultinomialNB()\n"
   ]
  },
  {
   "cell_type": "markdown",
   "id": "ca12ed41",
   "metadata": {},
   "source": []
  },
  {
   "cell_type": "code",
   "execution_count": null,
   "id": "5c2ba9c0",
   "metadata": {},
   "outputs": [],
   "source": []
  },
  {
   "cell_type": "markdown",
   "id": "5bdfc395",
   "metadata": {},
   "source": [
    "### Predictions with TFIDF "
   ]
  },
  {
   "cell_type": "code",
   "execution_count": 32,
   "id": "bc02cfd5",
   "metadata": {},
   "outputs": [],
   "source": [
    "nb.fit(X_train, y_train)\n",
    "predictions = nb.predict(X_test)\n"
   ]
  },
  {
   "cell_type": "code",
   "execution_count": 33,
   "id": "60857da1",
   "metadata": {},
   "outputs": [
    {
     "data": {
      "text/plain": [
       "0.9359886201991465"
      ]
     },
     "execution_count": 33,
     "metadata": {},
     "output_type": "execute_result"
    }
   ],
   "source": [
    "from sklearn import metrics\n",
    "metrics.accuracy_score(y_test, predictions)"
   ]
  },
  {
   "cell_type": "code",
   "execution_count": 34,
   "id": "09ca712d",
   "metadata": {},
   "outputs": [
    {
     "name": "stdout",
     "output_type": "stream",
     "text": [
      "Accuracy score:  0.9359886201991465\n",
      "Recall score:  0.9359886201991465\n",
      "Precision score:  0.8760746971423022\n",
      "F1 score:  0.9050411639838918\n"
     ]
    },
    {
     "name": "stderr",
     "output_type": "stream",
     "text": [
      "c:\\python\\python38\\lib\\site-packages\\sklearn\\metrics\\_classification.py:1248: UndefinedMetricWarning: Precision is ill-defined and being set to 0.0 in labels with no predicted samples. Use `zero_division` parameter to control this behavior.\n",
      "  _warn_prf(average, modifier, msg_start, len(result))\n"
     ]
    }
   ],
   "source": [
    "from sklearn.metrics import accuracy_score, recall_score, precision_score, f1_score\n",
    "\n",
    "print(\"Accuracy score: \", accuracy_score(y_test, predictions))\n",
    "print(\"Recall score: \", recall_score(y_test, predictions, average = 'weighted'))\n",
    "print(\"Precision score: \", precision_score(y_test, predictions, average = 'weighted'))\n",
    "print(\"F1 score: \", f1_score(y_test, predictions, average = 'weighted'))"
   ]
  },
  {
   "cell_type": "code",
   "execution_count": 36,
   "id": "ec2f2d43",
   "metadata": {},
   "outputs": [],
   "source": [
    "import pickle\n",
    "\n",
    "pickle.dump(nb, open('nb.pkl', 'wb'))"
   ]
  },
  {
   "cell_type": "markdown",
   "id": "303479f0",
   "metadata": {},
   "source": [
    "### Predictions with count vectorization"
   ]
  },
  {
   "cell_type": "code",
   "execution_count": 54,
   "id": "a24b43c9",
   "metadata": {},
   "outputs": [
    {
     "name": "stdout",
     "output_type": "stream",
     "text": [
      "Training dataset:  1773\n",
      "Test dataset:  592\n"
     ]
    }
   ],
   "source": [
    "X_train, X_test, y_train, y_test = train_test_split(\n",
    "    df['Sentiment'],\n",
    "    df['preprocessed_headlines'], \n",
    "    random_state = 5\n",
    ")\n",
    "\n",
    "print(\"Training dataset: \", X_train.shape[0])\n",
    "print(\"Test dataset: \", X_test.shape[0])"
   ]
  },
  {
   "cell_type": "code",
   "execution_count": 57,
   "id": "a808e91a",
   "metadata": {},
   "outputs": [
    {
     "data": {
      "text/plain": [
       "\"#CountVectorizer is taking lists (with string contents)\\n#as an argument rather than array. \\ncount_vector = CountVectorizer(stop_words = 'english')\\ntraining_data = count_vector.fit_transform(X_train)\\ntesting_data = count_vector.transform(X_test)\""
      ]
     },
     "execution_count": 57,
     "metadata": {},
     "output_type": "execute_result"
    }
   ],
   "source": [
    "\"\"\"#CountVectorizer is taking lists (with string contents)\n",
    "#as an argument rather than array. \n",
    "count_vector = CountVectorizer(stop_words = 'english')\n",
    "training_data = count_vector.fit_transform(X_train)\n",
    "testing_data = count_vector.transform(X_test)\"\"\""
   ]
  },
  {
   "cell_type": "code",
   "execution_count": null,
   "id": "85a243eb",
   "metadata": {},
   "outputs": [],
   "source": []
  },
  {
   "cell_type": "code",
   "execution_count": null,
   "id": "dca69f25",
   "metadata": {},
   "outputs": [],
   "source": []
  },
  {
   "cell_type": "code",
   "execution_count": null,
   "id": "5de2b820",
   "metadata": {},
   "outputs": [],
   "source": []
  }
 ],
 "metadata": {
  "interpreter": {
   "hash": "e404b59586357c814bc0d3940e75d6763c00a48753b225b81f7716971b8e1741"
  },
  "kernelspec": {
   "display_name": "Python 3 (ipykernel)",
   "language": "python",
   "name": "python3"
  },
  "language_info": {
   "codemirror_mode": {
    "name": "ipython",
    "version": 3
   },
   "file_extension": ".py",
   "mimetype": "text/x-python",
   "name": "python",
   "nbconvert_exporter": "python",
   "pygments_lexer": "ipython3",
   "version": "3.8.0"
  }
 },
 "nbformat": 4,
 "nbformat_minor": 5
}
